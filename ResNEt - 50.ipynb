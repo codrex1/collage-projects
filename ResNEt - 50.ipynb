{
 "cells": [
  {
   "cell_type": "code",
   "execution_count": 1,
   "metadata": {},
   "outputs": [
    {
     "name": "stderr",
     "output_type": "stream",
     "text": [
      "Using TensorFlow backend.\n"
     ]
    }
   ],
   "source": [
    "import numpy as np\n",
    "import keras\n",
    "from keras.utils import plot_model\n",
    "from keras.models import Sequential,Model,load_model\n",
    "from keras.layers import Dense,Conv2D,concatenate,AveragePooling2D,MaxPool2D,BatchNormalization,Dropout,add,ZeroPadding2D,Flatten\n",
    "from keras.callbacks import ModelCheckpoint,LearningRateScheduler,ReduceLROnPlateau\n",
    "from keras.initializers import glorot_uniform\n",
    "from keras.layers import Activation,Input\n",
    "from keras.regularizers import l2\n",
    "import os\n",
    "import cv2\n",
    "import warnings\n",
    "warnings.filterwarnings(action='ignore')"
   ]
  },
  {
   "cell_type": "code",
   "execution_count": 2,
   "metadata": {},
   "outputs": [],
   "source": [
    "dot_img_file = os.path.join(os.getcwd(),\"model.png\")\n",
    "callbacks = [ModelCheckpoint(filepath = 'model_wight_best.h5',save_best_only=True),\n",
    "             ReduceLROnPlateau(min_lr = 1e-7)] \n",
    "path = \"C:\\\\Users\\\\Asus\\\\Desktop\\\\Face images\\\\model_wight_best.h5\""
   ]
  },
  {
   "cell_type": "code",
   "execution_count": 3,
   "metadata": {},
   "outputs": [],
   "source": [
    "class ResNet_50:\n",
    "    \n",
    "    \n",
    "    def __init__(self,class_,shape):\n",
    "        self.CLASS = class_\n",
    "        self.shape = shape\n",
    "    \n",
    "    \n",
    "    def identity_block(self,inputs,f,filters):\n",
    "            \n",
    "        x = Conv2D(filters[0],kernel_size=1,strides=(1, 1),padding = 'valid',kernel_initializer=glorot_uniform(seed=0))(inputs)\n",
    "        x = BatchNormalization()(x)\n",
    "        x = Activation('relu')(x)\n",
    "        \n",
    "        x = Conv2D(filters[1],kernel_size=(f,f),strides=(1, 1),padding = 'same',kernel_initializer=glorot_uniform(seed=0))(x)\n",
    "        x = BatchNormalization()(x)\n",
    "        x = Activation('relu')(x)\n",
    "    \n",
    "        x = Conv2D(filters[2],kernel_size=1,strides=(1, 1),padding = 'valid',kernel_initializer=glorot_uniform(seed=0))(x)\n",
    "        x = BatchNormalization()(x)\n",
    "        \n",
    "        x = add([x,inputs])\n",
    "        x = Activation('relu')(x)\n",
    "        \n",
    "        return x\n",
    "        \n",
    "    def convolutional_block(self,inputs,f,filters):\n",
    "        \n",
    "        x = Conv2D(filters[0],kernel_size=1,strides=(2, 2),padding = 'valid',kernel_initializer=glorot_uniform(seed=0))(inputs)\n",
    "        x = BatchNormalization()(x)\n",
    "        x = Activation('relu')(x)\n",
    "        \n",
    "        x = Conv2D(filters[1],kernel_size=(f,f),strides=(1, 1),padding = 'same',kernel_initializer=glorot_uniform(seed=0))(x)\n",
    "        x = BatchNormalization()(x)\n",
    "        x = Activation('relu')(x)\n",
    "    \n",
    "        x = Conv2D(filters[2],kernel_size=1,strides=(1, 1),padding = 'valid',kernel_initializer=glorot_uniform(seed=0))(x)\n",
    "        x = BatchNormalization()(x)\n",
    "        \n",
    "        inputs = Conv2D(filters[2],kernel_size=1,strides=(2, 2),padding = 'valid',kernel_initializer=glorot_uniform(seed=0))(inputs)\n",
    "        inputs = BatchNormalization()(x)\n",
    "        \n",
    "        x = add([x,inputs])\n",
    "        x = Activation('relu')(x)\n",
    "        return x\n",
    "        \n",
    "        \n",
    "    def forward(self):\n",
    "        inputs = Input(shape = self.shape)\n",
    "        x = Conv2D(64, (7, 7), strides=(2, 2),kernel_initializer=glorot_uniform(seed=0))(inputs)\n",
    "        x = BatchNormalization()(x)\n",
    "        x = Activation('relu')(x)\n",
    "        x = MaxPool2D((3, 3), strides=(2, 2))(x)\n",
    "        \n",
    "        x = self.convolutional_block(x, f = 3, filters = [128, 128, 512])\n",
    "        x = self.identity_block(x, 3, [128, 128, 512])\n",
    "        x = self.identity_block(x, 3, [128, 128, 512])\n",
    "        x = self.identity_block(x, 3, [128, 128, 512])\n",
    "\n",
    "        x = self.convolutional_block(x, f = 3, filters = [256, 256, 1024])\n",
    "        x = self.identity_block(x, 3, [256, 256, 1024])\n",
    "        x = self.identity_block(x, 3, [256, 256, 1024])\n",
    "        x = self.identity_block(x, 3, [256, 256, 1024])\n",
    "        x = self.identity_block(x, 3, [256, 256, 1024])\n",
    "        x = self.identity_block(x, 3, [256, 256, 1024])\n",
    "\n",
    "        x = self.convolutional_block(x, f = 3, filters = [512, 512, 2048])\n",
    "        x = self.identity_block(x, 3, [512, 512, 2048])\n",
    "        x = self.identity_block(x, 3, [512, 512, 2048])\n",
    "\n",
    "        x = AveragePooling2D((2,2), name=\"avg_pool\")(x)\n",
    "        x = Flatten()(x)\n",
    "        x = Dense(self.CLASS, activation='softmax',kernel_initializer = glorot_uniform(seed=0))(x)\n",
    "\n",
    "        model = Model(inputs = inputs, outputs = x, name='ResNet50')\n",
    "        return model\n",
    "        "
   ]
  },
  {
   "cell_type": "code",
   "execution_count": 4,
   "metadata": {},
   "outputs": [],
   "source": [
    "resnet = ResNet_50(5,(64,64,3))\n",
    "model = resnet.forward()"
   ]
  },
  {
   "cell_type": "code",
   "execution_count": 5,
   "metadata": {},
   "outputs": [],
   "source": [
    "#plot_model(model,dot_img_file)#"
   ]
  },
  {
   "cell_type": "code",
   "execution_count": 6,
   "metadata": {},
   "outputs": [],
   "source": [
    "model = load_model(path)"
   ]
  },
  {
   "cell_type": "code",
   "execution_count": 7,
   "metadata": {},
   "outputs": [],
   "source": [
    "mapp = {}\n",
    "path2 = \"C:\\\\Users\\\\Asus\\\\Desktop\\\\Files\\\\Machine learning,Deep Learning\\\\Emotion detection images\\\\images\\\\train\"\n",
    "for i,maps in enumerate(os.listdir(path2)):\n",
    "    mapp[i] = maps"
   ]
  },
  {
   "cell_type": "code",
   "execution_count": 9,
   "metadata": {},
   "outputs": [],
   "source": [
    "cascades_path = os.path.join(\"C:\\\\Users\\\\Asus\\\\Desktop\\\\Files\",'haarcascade_frontalface_alt2.xml')"
   ]
  },
  {
   "cell_type": "code",
   "execution_count": null,
   "metadata": {},
   "outputs": [],
   "source": [
    "cap = cv2.VideoCapture(0)\n",
    "font                   = cv2.FONT_HERSHEY_SIMPLEX\n",
    "bottomLeftCornerOfText = (10,150)\n",
    "fontScale              = 1\n",
    "fontColor              = (255,255,255)\n",
    "lineType               = 2\n",
    "\n",
    "while True : \n",
    "    \n",
    "    ret,frame = cap.read()\n",
    "    image = frame.copy()\n",
    "    if ret == False :\n",
    "        break\n",
    "    (h, w) = image.shape[:2]\n",
    "    detect = cv2.CascadeClassifier(cascades_path)\n",
    "    gray = cv2.cvtColor(image,cv2.COLOR_BGR2GRAY)\n",
    "    faces = detect.detectMultiScale(gray, 1.3, 5)\n",
    "    for (x,y,w,h) in faces:\n",
    "        startx,starty,endx,endy = (x,y,x+w,y+h)\n",
    "        frame = cv2.rectangle(frame,(startx,starty),(endx,endy),[0,255,0],2)\n",
    "        face = image[starty:endy, startx:endx]    \n",
    "        face = cv2.resize(face,(300,300))\n",
    "        inp = np.expand_dims(np.array(face),axis = 0)\n",
    "        pred = model.predict(inp)\n",
    "        cv2.putText(frame,mapp[np.argmax(pred)], bottomLeftCornerOfText, font, fontScale,fontColor,lineType)\n",
    "    cv2.imshow('frame',frame)\n",
    "    if cv2.waitKey(1) & 0xFF == ord('q'):\n",
    "        break\n",
    "\n",
    "cap.release()\n",
    "cv2.destroyAllWindows()"
   ]
  },
  {
   "cell_type": "code",
   "execution_count": null,
   "metadata": {},
   "outputs": [],
   "source": []
  },
  {
   "cell_type": "code",
   "execution_count": null,
   "metadata": {},
   "outputs": [],
   "source": []
  },
  {
   "cell_type": "code",
   "execution_count": null,
   "metadata": {},
   "outputs": [],
   "source": []
  },
  {
   "cell_type": "code",
   "execution_count": null,
   "metadata": {},
   "outputs": [],
   "source": []
  }
 ],
 "metadata": {
  "kernelspec": {
   "display_name": "GPUT",
   "language": "python",
   "name": "tfgpu"
  },
  "language_info": {
   "codemirror_mode": {
    "name": "ipython",
    "version": 3
   },
   "file_extension": ".py",
   "mimetype": "text/x-python",
   "name": "python",
   "nbconvert_exporter": "python",
   "pygments_lexer": "ipython3",
   "version": "3.8.3"
  }
 },
 "nbformat": 4,
 "nbformat_minor": 2
}
